{
 "cells": [
  {
   "cell_type": "code",
   "execution_count": null,
   "id": "b3a1a8e9",
   "metadata": {},
   "outputs": [],
   "source": [
    "from oanda import *\n",
    "\n"
   ]
  }
 ],
 "metadata": {
  "language_info": {
   "name": "python"
  }
 },
 "nbformat": 4,
 "nbformat_minor": 5
}
