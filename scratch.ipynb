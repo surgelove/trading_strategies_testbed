{
 "cells": [
  {
   "cell_type": "code",
   "execution_count": 63,
   "id": "96ddbbe8",
   "metadata": {},
   "outputs": [],
   "source": [
    "import urllib.request\n",
    "import json\n",
    "import os\n",
    "import ssl\n",
    "\n",
    "def create_stop_order(api_key, account_id, instrument, units, price):\n",
    "    \"\"\"\n",
    "    Creates a stop order to buy or sell an instrument at a given price using the Oanda REST API.\n",
    "\n",
    "    Args:\n",
    "        instrument (str): The instrument to trade (e.g., 'EUR_USD').\n",
    "        units (int): The number of units to buy or sell. Positive for a buy order, negative for a sell order.\n",
    "        price (float): The price at which to trigger the stop order.\n",
    "    \"\"\"\n",
    "\n",
    "    # Oanda API endpoint for creating an order\n",
    "    url = f\"https://api-fxtrade.oanda.com/v3/accounts/{account_id}/orders\"\n",
    "\n",
    "    # Order data\n",
    "    data = {\n",
    "        \"order\": {\n",
    "            \"price\": str(price),\n",
    "            \"instrument\": instrument,\n",
    "            \"units\": str(units),\n",
    "            \"type\": \"STOP\",\n",
    "            \"timeInForce\": \"GTC\"\n",
    "        }\n",
    "    }\n",
    "\n",
    "    # JSON encode the data\n",
    "    postdata = json.dumps(data).encode('utf-8')\n",
    "\n",
    "    # Create the request\n",
    "    req = urllib.request.Request(url, postdata, {\n",
    "        \"Content-Type\": \"application/json\",\n",
    "        \"Authorization\": f\"Bearer {api_key}\"\n",
    "    })\n",
    "\n",
    "    # Make the request\n",
    "    try:\n",
    "        import certifi\n",
    "        context = ssl.create_default_context(cafile=certifi.where())\n",
    "        with urllib.request.urlopen(req, context=context) as response:\n",
    "            response_data = json.loads(response.read().decode('utf-8'))\n",
    "            print(json.dumps(response_data, indent=2))\n",
    "    except ImportError:\n",
    "        print(\"The 'certifi' package is not installed. Please install it by running '!pip install certifi' in a new cell and then run this cell again.\")\n",
    "    except urllib.error.HTTPError as err:\n",
    "        print(f\"HTTP Error: {err.code} {err.reason}\")\n",
    "        print(err.read().decode('utf-8'))\n"
   ]
  },
  {
   "cell_type": "markdown",
   "id": "1dfa817d",
   "metadata": {},
   "source": [
    "This notebook will contain a Python function to create a stop order using the Oanda REST API. It will use only Python's built-in libraries to make the API call."
   ]
  },
  {
   "cell_type": "markdown",
   "id": "9f556504",
   "metadata": {},
   "source": [
    "### Example Usage\n",
    "\n",
    "The following cell demonstrates how to use the `create_stop_order` function. \n",
    "\n",
    "**Important:** Before running the example, make sure to replace the placeholder values for `YOUR_API_KEY` and `YOUR_ACCOUNT_ID` in the function with your actual Oanda API key and account ID. For better security, it is recommended to store these credentials as environment variables or in a separate `secrets.json` file."
   ]
  },
  {
   "cell_type": "code",
   "execution_count": 61,
   "id": "e9c24cbd",
   "metadata": {},
   "outputs": [
    {
     "name": "stdout",
     "output_type": "stream",
     "text": [
      "{\n",
      "  \"orderCreateTransaction\": {\n",
      "    \"id\": \"688294\",\n",
      "    \"accountID\": \"001-002-6172489-007\",\n",
      "    \"userID\": 6172489,\n",
      "    \"batchID\": \"688294\",\n",
      "    \"requestID\": \"133444830488408017\",\n",
      "    \"time\": \"2025-06-26T16:36:41.236385204Z\",\n",
      "    \"type\": \"STOP_ORDER\",\n",
      "    \"instrument\": \"USD_CAD\",\n",
      "    \"units\": \"-160\",\n",
      "    \"price\": \"1.36100\",\n",
      "    \"timeInForce\": \"GTC\",\n",
      "    \"triggerCondition\": \"DEFAULT\",\n",
      "    \"triggerMode\": \"TOP_OF_BOOK\",\n",
      "    \"partialFill\": \"DEFAULT\",\n",
      "    \"positionFill\": \"DEFAULT\",\n",
      "    \"reason\": \"CLIENT_ORDER\"\n",
      "  },\n",
      "  \"relatedTransactionIDs\": [\n",
      "    \"688294\"\n",
      "  ],\n",
      "  \"lastTransactionID\": \"688294\"\n",
      "}\n"
     ]
    }
   ],
   "source": [
    "# Example: Create a stop order to buy 100 units of EUR_USD at 1.1000\n",
    "# In a real scenario, you would replace the placeholder credentials in the function.\n",
    "# Load secrets from secrets.json\n",
    "with open('secrets.json', 'r') as f:\n",
    "    secrets = json.load(f)\n",
    "\n",
    "api_key = secrets['api_key']\n",
    "account_id = secrets['account_id']\n",
    "\n",
    "create_stop_order(api_key, account_id, \"USD_CAD\", -160, 1.36100)"
   ]
  },
  {
   "cell_type": "code",
   "execution_count": null,
   "id": "ce7b4bd3",
   "metadata": {},
   "outputs": [],
   "source": []
  },
  {
   "cell_type": "markdown",
   "id": "a07da4fe",
   "metadata": {},
   "source": [
    "### Cancel Stop Orders\n",
    "\n",
    "The following function, `cancel_stop_orders`, cancels pending stop orders for a specific instrument. You can specify whether to cancel buy orders, sell orders, or all stop orders for the instrument."
   ]
  },
  {
   "cell_type": "code",
   "execution_count": 53,
   "id": "322f18e3",
   "metadata": {},
   "outputs": [],
   "source": [
    "import certifi\n",
    "def cancel_stop_orders(api_key, account_id, instrument, direction):\n",
    "    \"\"\"\n",
    "    Cancels pending stop orders for a given instrument.\n",
    "\n",
    "    Args:\n",
    "        api_key (str): Your Oanda API key.\n",
    "        account_id (str): Your Oanda account ID.\n",
    "        instrument (str): The instrument to cancel orders for (e.g., 'EUR_USD').\n",
    "        direction (int): The direction of orders to cancel:\n",
    "                         -1 to cancel sells, 1 to cancel buys, 0 to cancel all.\n",
    "    \"\"\"\n",
    "    # Oanda API endpoint for getting pending orders\n",
    "    get_orders_url = f\"https://api-fxtrade.oanda.com/v3/accounts/{account_id}/pendingOrders\"\n",
    "\n",
    "    # Headers for the request\n",
    "    headers = {\n",
    "        \"Authorization\": f\"Bearer {api_key}\"\n",
    "    }\n",
    "\n",
    "    try:\n",
    "        # Get the list of pending orders\n",
    "        req = urllib.request.Request(get_orders_url, headers=headers)\n",
    "        context = ssl.create_default_context(cafile=certifi.where())\n",
    "        with urllib.request.urlopen(req, context=context) as response:\n",
    "            pending_orders_data = json.loads(response.read().decode('utf-8'))\n",
    "\n",
    "        # Filter for stop orders for the given instrument\n",
    "        for order in pending_orders_data.get('orders', []):\n",
    "            if order.get('type') == 'STOP' and order.get('instrument') == instrument:\n",
    "                order_units = int(order.get('units', 0))\n",
    "                cancel = False\n",
    "                if direction == 0:\n",
    "                    cancel = True\n",
    "                elif direction == 1 and order_units > 0:\n",
    "                    cancel = True\n",
    "                elif direction == -1 and order_units < 0:\n",
    "                    cancel = True\n",
    "\n",
    "                if cancel:\n",
    "                    order_id = order['id']\n",
    "                    cancel_order_url = f\"https://api-fxtrade.oanda.com/v3/accounts/{account_id}/orders/{order_id}/cancel\"\n",
    "                    cancel_req = urllib.request.Request(cancel_order_url, headers=headers, method='PUT')\n",
    "                    with urllib.request.urlopen(cancel_req, context=context) as cancel_response:\n",
    "                        cancel_data = json.loads(cancel_response.read().decode('utf-8'))\n",
    "                        print(f\"Canceled order {order_id}:\")\n",
    "                        print(json.dumps(cancel_data, indent=2))\n",
    "\n",
    "    except ImportError:\n",
    "        print(\"The 'certifi' package is not installed. Please install it by running '!pip install certifi' in a new cell and then run this cell again.\")\n",
    "    except urllib.error.HTTPError as err:\n",
    "        print(f\"HTTP Error: {err.code} {err.reason}\")\n",
    "        print(err.read().decode('utf-8'))\n"
   ]
  },
  {
   "cell_type": "code",
   "execution_count": 62,
   "id": "07b2fd69",
   "metadata": {},
   "outputs": [
    {
     "name": "stdout",
     "output_type": "stream",
     "text": [
      "Canceled order 688294:\n",
      "{\n",
      "  \"orderCancelTransaction\": {\n",
      "    \"id\": \"688295\",\n",
      "    \"accountID\": \"001-002-6172489-007\",\n",
      "    \"userID\": 6172489,\n",
      "    \"batchID\": \"688295\",\n",
      "    \"requestID\": \"169473627531128193\",\n",
      "    \"time\": \"2025-06-26T16:36:47.452237688Z\",\n",
      "    \"type\": \"ORDER_CANCEL\",\n",
      "    \"orderID\": \"688294\",\n",
      "    \"reason\": \"CLIENT_REQUEST\"\n",
      "  },\n",
      "  \"relatedTransactionIDs\": [\n",
      "    \"688295\"\n",
      "  ],\n",
      "  \"lastTransactionID\": \"688295\"\n",
      "}\n"
     ]
    }
   ],
   "source": [
    "with open('secrets.json', 'r') as f:\n",
    "    secrets = json.load(f)\n",
    "\n",
    "api_key = secrets['api_key']\n",
    "account_id = secrets['account_id']\n",
    "\n",
    "cancel_stop_orders(api_key, account_id, \"USD_CAD\", 0)  # Cancel all stop orders for USD_CAD"
   ]
  },
  {
   "cell_type": "code",
   "execution_count": null,
   "id": "268b31c5",
   "metadata": {},
   "outputs": [],
   "source": []
  },
  {
   "cell_type": "code",
   "execution_count": null,
   "id": "691098a8",
   "metadata": {},
   "outputs": [],
   "source": []
  },
  {
   "cell_type": "markdown",
   "id": "1ec5ff72",
   "metadata": {},
   "source": [
    "### Get Instrument Position\n",
    "\n",
    "The following function, `get_instrument_position`, retrieves the number of units (shares) you hold for a given instrument."
   ]
  },
  {
   "cell_type": "code",
   "execution_count": 64,
   "id": "a01bbbf6",
   "metadata": {},
   "outputs": [],
   "source": [
    "def get_instrument_position(api_key, account_id, instrument):\n",
    "    \"\"\"\n",
    "    Retrieves the number of units for a given instrument.\n",
    "\n",
    "    Args:\n",
    "        api_key (str): Your Oanda API key.\n",
    "        account_id (str): Your Oanda account ID.\n",
    "        instrument (str): The instrument to check (e.g., 'EUR_USD').\n",
    "\n",
    "    Returns:\n",
    "        int: The number of units of the instrument. Positive for long, negative for short, 0 for no position.\n",
    "    \"\"\"\n",
    "    get_positions_url = f\"https://api-fxtrade.oanda.com/v3/accounts/{account_id}/openPositions\"\n",
    "\n",
    "    headers = {\n",
    "        \"Authorization\": f\"Bearer {api_key}\"\n",
    "    }\n",
    "\n",
    "    try:\n",
    "        req = urllib.request.Request(get_positions_url, headers=headers)\n",
    "        context = ssl.create_default_context(cafile=certifi.where())\n",
    "        with urllib.request.urlopen(req, context=context) as response:\n",
    "            positions_data = json.loads(response.read().decode('utf-8'))\n",
    "\n",
    "        for position in positions_data.get('positions', []):\n",
    "            if position.get('instrument') == instrument:\n",
    "                long_units = int(position.get('long', {}).get('units', 0))\n",
    "                short_units = int(position.get('short', {}).get('units', 0))\n",
    "                return long_units - short_units\n",
    "        \n",
    "        return 0 # No position found for the instrument\n",
    "\n",
    "    except ImportError:\n",
    "        print(\"The 'certifi' package is not installed. Please install it by running '!pip install certifi' in a new cell and then run this cell again.\")\n",
    "        return None\n",
    "    except urllib.error.HTTPError as err:\n",
    "        print(f\"HTTP Error: {err.code} {err.reason}\")\n",
    "        print(err.read().decode('utf-8'))\n",
    "        return None\n"
   ]
  },
  {
   "cell_type": "code",
   "execution_count": null,
   "id": "e799ff02",
   "metadata": {},
   "outputs": [],
   "source": []
  },
  {
   "cell_type": "markdown",
   "id": "68a7a3f7",
   "metadata": {},
   "source": [
    "### Get Instrument Details\n",
    "\n",
    "The following function, `get_instrument_details`, retrieves information about a specific instrument, including the maximum position size you can hold."
   ]
  },
  {
   "cell_type": "code",
   "execution_count": 84,
   "id": "74d518b2",
   "metadata": {},
   "outputs": [],
   "source": [
    "def get_instrument_details(api_key, account_id, instrument):\n",
    "    \"\"\"\n",
    "    Retrieves the maximum position size for a given instrument.\n",
    "\n",
    "    Args:\n",
    "        api_key (str): Your Oanda API key.\n",
    "        account_id (str): Your Oanda account ID.\n",
    "        instrument (str): The instrument to check (e.g., 'EUR_USD').\n",
    "\n",
    "    Returns:\n",
    "        int: The maximum position size for the instrument.\n",
    "    \"\"\"\n",
    "    print('i am called')\n",
    "    get_instruments_url = f\"https://api-fxtrade.oanda.com/v3/accounts/{account_id}/instruments?instruments={instrument}\"\n",
    "\n",
    "    headers = {\n",
    "        \"Authorization\": f\"Bearer {api_key}\"\n",
    "    }\n",
    "\n",
    "    try:\n",
    "        req = urllib.request.Request(get_instruments_url, headers=headers)\n",
    "        context = ssl.create_default_context(cafile=certifi.where())\n",
    "        with urllib.request.urlopen(req, context=context) as response:\n",
    "            instrument_data = json.loads(response.read().decode('utf-8'))\n",
    "\n",
    "        if 'instruments' in instrument_data and len(instrument_data['instruments']) > 0:\n",
    "            max_pos_size = instrument_data['instruments'][0].get('maximumPositionSize')\n",
    "            print(instrument_data)\n",
    "            return int(float(max_pos_size)) if max_pos_size else None\n",
    "            print('instrument found')\n",
    "        else:\n",
    "            print(f\"Instrument {instrument} not found.\")\n",
    "            return None # Instrument not found\n",
    "\n",
    "    except ImportError:\n",
    "        print(\"The 'certifi' package is not installed. Please install it by running '!pip install certifi' in a new cell and then run this cell again.\")\n",
    "        return None\n",
    "    except urllib.error.HTTPError as err:\n",
    "        print(f\"HTTP Error: {err.code} {err.reason}\")\n",
    "        print(err.read().decode('utf-8'))\n",
    "        return None\n"
   ]
  },
  {
   "cell_type": "code",
   "execution_count": 85,
   "id": "09af2df4",
   "metadata": {},
   "outputs": [
    {
     "name": "stdout",
     "output_type": "stream",
     "text": [
      "i am called\n",
      "{'instruments': [{'name': 'USD_CAD', 'type': 'CURRENCY', 'displayName': 'USD/CAD', 'pipLocation': -4, 'displayPrecision': 5, 'tradeUnitsPrecision': 0, 'minimumTradeSize': '1', 'maximumTrailingStopDistance': '1.00000', 'minimumTrailingStopDistance': '0.00050', 'maximumPositionSize': '0', 'maximumOrderUnits': '100000000', 'marginRate': '0.022', 'guaranteedStopLossOrderMode': 'DISABLED', 'tags': [{'type': 'BRAIN_ASSET_CLASS', 'name': 'FX'}, {'type': 'ASSET_CLASS', 'name': 'CURRENCY'}], 'financing': {'longRate': '0.0071', 'shortRate': '-0.0284', 'financingDaysOfWeek': [{'dayOfWeek': 'MONDAY', 'daysCharged': 1}, {'dayOfWeek': 'TUESDAY', 'daysCharged': 1}, {'dayOfWeek': 'WEDNESDAY', 'daysCharged': 1}, {'dayOfWeek': 'THURSDAY', 'daysCharged': 3}, {'dayOfWeek': 'FRIDAY', 'daysCharged': 2}, {'dayOfWeek': 'SATURDAY', 'daysCharged': 0}, {'dayOfWeek': 'SUNDAY', 'daysCharged': 0}]}}], 'lastTransactionID': '688312'}\n",
      "0\n"
     ]
    }
   ],
   "source": [
    "import json\n",
    "\n",
    "with open('secrets.json', 'r') as f:\n",
    "    secrets = json.load(f)\n",
    "\n",
    "api_key = secrets['api_key']\n",
    "account_id = secrets['account_id']\n",
    "\n",
    "details = get_instrument_details(api_key, account_id, \"USD_CAD\")\n",
    "print(details)"
   ]
  },
  {
   "cell_type": "code",
   "execution_count": null,
   "id": "7d797d4c",
   "metadata": {},
   "outputs": [],
   "source": []
  },
  {
   "cell_type": "markdown",
   "id": "28043b5b",
   "metadata": {},
   "source": [
    "### Get Available Shares to Trade\n",
    "\n",
    "The following set of functions calculates the number of shares you can buy or sell for a given instrument based on your account's NAV and the instrument's current price."
   ]
  },
  {
   "cell_type": "code",
   "execution_count": null,
   "id": "86110406",
   "metadata": {},
   "outputs": [],
   "source": [
    "def get_account_summary(api_key, account_id):\n",
    "    \"\"\"\n",
    "    Retrieves the account summary, including NAV and margin available.\n",
    "    \"\"\"\n",
    "    url = f\"https://api-fxtrade.oanda.com/v3/accounts/{account_id}/summary\"\n",
    "    headers = {\"Authorization\": f\"Bearer {api_key}\"}\n",
    "    try:\n",
    "        req = urllib.request.Request(url, headers=headers)\n",
    "        context = ssl.create_default_context(cafile=certifi.where())\n",
    "        with urllib.request.urlopen(req, context=context) as response:\n",
    "            return json.loads(response.read().decode('utf-8'))\n",
    "    except Exception as e:\n",
    "        print(f\"Error getting account summary: {e}\")\n",
    "        return None\n",
    "\n",
    "def get_instrument_price(api_key, account_id, instrument):\n",
    "    \"\"\"\n",
    "    Retrieves the current bid and ask price for an instrument.\n",
    "    \"\"\"\n",
    "    url = f\"https://api-fxtrade.oanda.com/v3/accounts/{account_id}/pricing?instruments={instrument}\"\n",
    "    headers = {\"Authorization\": f\"Bearer {api_key}\"}\n",
    "    try:\n",
    "        req = urllib.request.Request(url, headers=headers)\n",
    "        context = ssl.create_default_context(cafile=certifi.where())\n",
    "        with urllib.request.urlopen(req, context=context) as response:\n",
    "            data = json.loads(response.read().decode('utf-8'))\n",
    "            if data.get('prices') and len(data['prices']) > 0:\n",
    "                return {\n",
    "                    'bid': float(data['prices'][0]['bids'][0]['price']),\n",
    "                    'ask': float(data['prices'][0]['asks'][0]['price'])\n",
    "                }\n",
    "            return None\n",
    "    except Exception as e:\n",
    "        print(f\"Error getting instrument price: {e}\")\n",
    "        return None\n",
    "\n",
    "def get_instrument_margin_rate(api_key, account_id, instrument):\n",
    "    \"\"\"\n",
    "    Retrieves the margin rate for an instrument.\n",
    "    \"\"\"\n",
    "    url = f\"https://api-fxtrade.oanda.com/v3/accounts/{account_id}/instruments?instruments={instrument}\"\n",
    "    headers = {\"Authorization\": f\"Bearer {api_key}\"}\n",
    "    try:\n",
    "        req = urllib.request.Request(url, headers=headers)\n",
    "        context = ssl.create_default_context(cafile=certifi.where())\n",
    "        with urllib.request.urlopen(req, context=context) as response:\n",
    "            data = json.loads(response.read().decode('utf-8'))\n",
    "            if data.get('instruments') and len(data['instruments']) > 0:\n",
    "                return float(data['instruments'][0]['marginRate'])\n",
    "            return None\n",
    "    except Exception as e:\n",
    "        print(f\"Error getting margin rate: {e}\")\n",
    "        return None\n",
    "\n",
    "def get_available_shares(api_key, account_id, instrument):\n",
    "    \"\"\"\n",
    "    Calculates the number of shares available to trade for a given instrument.\n",
    "    \"\"\"\n",
    "    summary = get_account_summary(api_key, account_id)\n",
    "    price_info = get_instrument_price(api_key, account_id, instrument)\n",
    "    margin_rate = get_instrument_margin_rate(api_key, account_id, instrument)\n",
    "\n",
    "    if summary and price_info and margin_rate:\n",
    "        margin_available = float(summary['account']['marginAvailable'])\n",
    "        \n",
    "        # For buying\n",
    "        ask_price = price_info['ask']\n",
    "        shares_to_buy = (margin_available / margin_rate) / ask_price\n",
    "        \n",
    "        # For selling\n",
    "        bid_price = price_info['bid']\n",
    "        shares_to_sell = (margin_available / margin_rate) / bid_price\n",
    "        \n",
    "        return {\n",
    "            'buy': int(shares_to_buy),\n",
    "            'sell': int(shares_to_sell)\n",
    "        }\n",
    "    return None\n"
   ]
  },
  {
   "cell_type": "code",
   "execution_count": 121,
   "id": "7a93ea1a",
   "metadata": {},
   "outputs": [],
   "source": [
    "def get_units_available(api_key, account_id, instrument):\n",
    "    params = {'instruments': {instrument}, 'includeUnitsAvailable': True}\n",
    "    endpoint = f'https://api-fxtrade.oanda.com/v3/accounts/{account_id}/pricing'\n",
    "    response = requests.get(endpoint, params=params, headers={'Authorization': f'Bearer {api_key}'})\n",
    "    content = json.loads(response.content)\n",
    "    # print(content['prices'][0]['unitsAvailable'])\n",
    "    return content['prices'][0]['unitsAvailable']"
   ]
  },
  {
   "cell_type": "code",
   "execution_count": 124,
   "id": "3ca7d7f3",
   "metadata": {},
   "outputs": [
    {
     "name": "stdout",
     "output_type": "stream",
     "text": [
      "position = 320.0\n",
      "Available when no position: 355.0\n"
     ]
    }
   ],
   "source": [
    "\n",
    "import json\n",
    "\n",
    "with open('secrets.json', 'r') as f:\n",
    "    secrets = json.load(f)\n",
    "\n",
    "api_key = secrets['api_key']\n",
    "account_id = secrets['account_id']\n",
    "instrument = input(\"Enter the instrument name (e.g., EUR_USD): \")\n",
    "position = float(get_instrument_position(api_key, account_id, instrument))\n",
    "print(f'{position = }')\n",
    "details = get_units_available(api_key, account_id, instrument)\n",
    "if position > 0:\n",
    "    shortable = float(details['default']['short'])\n",
    "    available = shortable - position\n",
    "elif position < 0:\n",
    "    longable = float(details['default']['long'])\n",
    "    available = longable + position\n",
    "\n",
    "print(f\"Available when no position: {available}\")"
   ]
  },
  {
   "cell_type": "code",
   "execution_count": null,
   "id": "aa969544",
   "metadata": {},
   "outputs": [],
   "source": []
  },
  {
   "cell_type": "code",
   "execution_count": null,
   "id": "0b90eaec",
   "metadata": {},
   "outputs": [
    {
     "name": "stdout",
     "output_type": "stream",
     "text": [
      "320\n",
      "{'bid': 1.36259, 'ask': 1.36279}\n"
     ]
    }
   ],
   "source": [
    "\n",
    "import json\n",
    "\n",
    "with open('secrets.json', 'r') as f:\n",
    "    secrets = json.load(f)\n",
    "\n",
    "api_key = secrets['api_key']\n",
    "account_id = secrets['account_id']\n",
    "instrument = input(\"Enter the instrument name (e.g., EUR_USD): \")\n",
    "\n",
    "\n",
    "details = get_instrument_price(api_key, account_id, instrument)\n",
    "print(details)"
   ]
  },
  {
   "cell_type": "code",
   "execution_count": 94,
   "id": "42b9a487",
   "metadata": {},
   "outputs": [
    {
     "data": {
      "text/plain": [
       "{'buy': 35, 'sell': 35}"
      ]
     },
     "execution_count": 94,
     "metadata": {},
     "output_type": "execute_result"
    }
   ],
   "source": [
    "\n",
    "import json\n",
    "\n",
    "with open('secrets.json', 'r') as f:\n",
    "    secrets = json.load(f)\n",
    "\n",
    "api_key = secrets['api_key']\n",
    "account_id = secrets['account_id']\n",
    "instrument = input(\"Enter the instrument name (e.g., EUR_USD): \")\n",
    "\n",
    "details = get_available_shares(api_key, account_id, instrument)\n",
    "details"
   ]
  },
  {
   "cell_type": "code",
   "execution_count": null,
   "id": "526abb48",
   "metadata": {},
   "outputs": [],
   "source": []
  }
 ],
 "metadata": {
  "kernelspec": {
   "display_name": "Python 3",
   "language": "python",
   "name": "python3"
  },
  "language_info": {
   "codemirror_mode": {
    "name": "ipython",
    "version": 3
   },
   "file_extension": ".py",
   "mimetype": "text/x-python",
   "name": "python",
   "nbconvert_exporter": "python",
   "pygments_lexer": "ipython3",
   "version": "3.13.1"
  }
 },
 "nbformat": 4,
 "nbformat_minor": 5
}
