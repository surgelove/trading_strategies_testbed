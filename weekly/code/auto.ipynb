{
 "cells": [
  {
   "cell_type": "code",
   "execution_count": 24,
   "id": "8fe1e796",
   "metadata": {},
   "outputs": [
    {
     "name": "stdout",
     "output_type": "stream",
     "text": [
      "Return code: 0\n",
      "Output:\n",
      "Linux localhost 6.1.0-22-amd64 #1 SMP PREEMPT_DYNAMIC Debian 6.1.94-1 (2024-06-21) x86_64\n",
      "\n",
      "The programs included with the Debian GNU/Linux system are free software;\n",
      "the exact distribution terms for each program are described in the\n",
      "individual files in /usr/share/doc/*/copyright.\n",
      "\n",
      "Debian GNU/Linux comes with ABSOLUTELY NO WARRANTY, to the extent\n",
      "permitted by applicable law.\n",
      "db/\n",
      "db/aia_big.db\n",
      "db/aia.db\n",
      "Linux localhost 6.1.0-22-amd64 #1 SMP PREEMPT_DYNAMIC Debian 6.1.94-1 (2024-06-21) x86_64\n",
      "\n",
      "The programs included with the Debian GNU/Linux system are free software;\n",
      "the exact distribution terms for each program are described in the\n",
      "individual files in /usr/share/doc/*/copyright.\n",
      "\n",
      "Debian GNU/Linux comes with ABSOLUTELY NO WARRANTY, to the extent\n",
      "permitted by applicable law.\n",
      "Friday date: 2025-06-27\n",
      "\n",
      "Errors:\n",
      "Pseudo-terminal will not be allocated because stdin is not a terminal.\n",
      "server exited unexpectedly\n",
      "Pseudo-terminal will not be allocated because stdin is not a terminal.\n",
      "x db/\n",
      "x db/aia_big.db\n",
      "x db/aia.db\n",
      "\n"
     ]
    }
   ],
   "source": [
    "import subprocess\n",
    "import os\n",
    "\n",
    "# # Change to the directory containing auto.sh\n",
    "# os.chdir('/Users/code/source/trading_strategies_testbed/Weekly')\n",
    "\n",
    "# # Make the script executable\n",
    "# os.chmod('./auto.sh', 0o755)\n",
    "\n",
    "# Run the auto.sh script\n",
    "result = subprocess.run(['./auto.sh'], capture_output=True, text=True)\n",
    "\n",
    "# Print the output\n",
    "print(\"Return code:\", result.returncode)\n",
    "print(\"Output:\")\n",
    "print(result.stdout)\n",
    "if result.stderr:\n",
    "    print(\"Errors:\")\n",
    "    print(result.stderr)"
   ]
  },
  {
   "cell_type": "code",
   "execution_count": null,
   "id": "ec3f3cbb",
   "metadata": {},
   "outputs": [],
   "source": []
  }
 ],
 "metadata": {
  "kernelspec": {
   "display_name": "Python 3",
   "language": "python",
   "name": "python3"
  },
  "language_info": {
   "codemirror_mode": {
    "name": "ipython",
    "version": 3
   },
   "file_extension": ".py",
   "mimetype": "text/x-python",
   "name": "python",
   "nbconvert_exporter": "python",
   "pygments_lexer": "ipython3",
   "version": "3.13.1"
  }
 },
 "nbformat": 4,
 "nbformat_minor": 5
}
